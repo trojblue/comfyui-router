{
 "cells": [
  {
   "cell_type": "code",
   "execution_count": 2,
   "metadata": {},
   "outputs": [
    {
     "data": {
      "text/plain": [
       "<Workflow with 17 nodes>\n",
       "Modifiable keys: ['api_hires_switch_a', 'api_positive', 'api_negative', 'api_width', 'api_height', 'api_batchsize', 'api_seed', 'api_hires_upscale_by', 'api_hires_upscale_type', 'api_checkpoint']\n",
       "Key-Value pairs: {api_hires_switch_a: 'a', api_positive: '(best quality:1),\\n\\n isekai joucho\\n\\n, ((highres)), best [quality], 2020s, absurdres', api_negative: 'lowres, (bad, watermark), 2000s, [2010s], worst quality, jpeg artifacts, unfinished, scan, chromatic aberration, bad quality, signature, extra digits, artistic error, username', api_width: '896', api_height: '1152', api_batchsize: '2', api_seed: 10116, api_hires_upscale_by: '1.5', api_hires_upscale_type: 'latent', api_checkpoint: 'yada_checkpoints/qft_v5c-c64_logfav96_60k_cont1/checkpoint-e73_s24000.safetensors'}"
      ]
     },
     "execution_count": 2,
     "metadata": {},
     "output_type": "execute_result"
    }
   ],
   "source": [
    "import random\n",
    "import unibox as ub\n",
    "\n",
    "from comfyui_router.utils import Workflow, WorkflowExecutor, CeleryWorkflowExecutor\n",
    "\n",
    "def rand_seed():\n",
    "    return random.randint(0, 100000)\n",
    "\n",
    "cwf_executor = CeleryWorkflowExecutor()\n",
    "wf = Workflow(\"/rmt/yada/dev/training-flow/data/demo_api_hires_v2.json\")\n",
    "\n",
    "overrides = {\n",
    "    \"api_positive\": \"(best quality:1),\\n\\n isekai joucho\\n\\n, ((highres)), best [quality], 2020s, absurdres\",\n",
    "    \"api_seed\": rand_seed(),\n",
    "}\n",
    "\n",
    "wf.update_modifiable_keys(overrides)\n",
    "wf"
   ]
  },
  {
   "cell_type": "code",
   "execution_count": 3,
   "metadata": {},
   "outputs": [
    {
     "data": {
      "text/plain": [
       "{'55': [<PIL.PngImagePlugin.PngImageFile image mode=RGB size=1344x1728>,\n",
       "  <PIL.PngImagePlugin.PngImageFile image mode=RGB size=1344x1728>]}"
      ]
     },
     "execution_count": 3,
     "metadata": {},
     "output_type": "execute_result"
    }
   ],
   "source": [
    "res = cwf_executor(dict(wf))\n",
    "res"
   ]
  },
  {
   "cell_type": "code",
   "execution_count": 5,
   "metadata": {},
   "outputs": [],
   "source": [
    "from comfyui_router.utils import WorkflowGradioGenerator"
   ]
  },
  {
   "cell_type": "code",
   "execution_count": 9,
   "metadata": {},
   "outputs": [
    {
     "name": "stdout",
     "output_type": "stream",
     "text": [
      "\u001b[2;36m[10:14:32]\u001b[0m\u001b[2;36m \u001b[0m\u001b[34mINFO    \u001b[0m HTTP Request: \u001b[1;33mGET\u001b[0m                            \u001b]8;id=530514;file:///root/miniconda3/lib/python3.10/site-packages/httpx/_client.py\u001b\\\u001b[2m_client.py\u001b[0m\u001b]8;;\u001b\\\u001b[2m:\u001b[0m\u001b]8;id=646229;file:///root/miniconda3/lib/python3.10/site-packages/httpx/_client.py#1026\u001b\\\u001b[2m1026\u001b[0m\u001b]8;;\u001b\\\n",
      "\u001b[2;36m           \u001b[0m         \u001b[4;94mhttps://checkip.amazonaws.com/\u001b[0m \u001b[32m\"HTTP/1.1 200\u001b[0m \u001b[2m               \u001b[0m\n",
      "\u001b[2;36m           \u001b[0m         \u001b[32m\"\u001b[0m                                            \u001b[2m               \u001b[0m\n",
      "\u001b[2;36m          \u001b[0m\u001b[2;36m \u001b[0m\u001b[34mINFO    \u001b[0m HTTP Request: \u001b[1;33mGET\u001b[0m                            \u001b]8;id=801577;file:///root/miniconda3/lib/python3.10/site-packages/httpx/_client.py\u001b\\\u001b[2m_client.py\u001b[0m\u001b]8;;\u001b\\\u001b[2m:\u001b[0m\u001b]8;id=979929;file:///root/miniconda3/lib/python3.10/site-packages/httpx/_client.py#1026\u001b\\\u001b[2m1026\u001b[0m\u001b]8;;\u001b\\\n",
      "\u001b[2;36m           \u001b[0m         \u001b[4;94mhttps://api.gradio.app/pkg-version\u001b[0m \u001b[32m\"HTTP/1.1\u001b[0m \u001b[2m               \u001b[0m\n",
      "\u001b[2;36m           \u001b[0m         \u001b[32m200 OK\"\u001b[0m                                      \u001b[2m               \u001b[0m\n"
     ]
    }
   ],
   "source": [
    "wf_gradio_generator = WorkflowGradioGenerator(wf_executor=cwf_executor)\n",
    "iface = wf_gradio_generator(wf)"
   ]
  },
  {
   "cell_type": "code",
   "execution_count": 10,
   "metadata": {},
   "outputs": [
    {
     "name": "stdout",
     "output_type": "stream",
     "text": [
      "Running on local URL:  http://127.0.0.1:7860\n",
      "\u001b[2;36m[10:14:36]\u001b[0m\u001b[2;36m \u001b[0m\u001b[34mINFO    \u001b[0m HTTP Request: \u001b[1;33mGET\u001b[0m                            \u001b]8;id=499108;file:///root/miniconda3/lib/python3.10/site-packages/httpx/_client.py\u001b\\\u001b[2m_client.py\u001b[0m\u001b]8;;\u001b\\\u001b[2m:\u001b[0m\u001b]8;id=325287;file:///root/miniconda3/lib/python3.10/site-packages/httpx/_client.py#1026\u001b\\\u001b[2m1026\u001b[0m\u001b]8;;\u001b\\\n",
      "\u001b[2;36m           \u001b[0m         \u001b[4;94mhttp://127.0.0.1:7860/startup-events\u001b[0m         \u001b[2m               \u001b[0m\n",
      "\u001b[2;36m           \u001b[0m         \u001b[32m\"HTTP/1.1 200 OK\"\u001b[0m                            \u001b[2m               \u001b[0m\n",
      "\u001b[2;36m          \u001b[0m\u001b[2;36m \u001b[0m\u001b[34mINFO    \u001b[0m Found credentials in shared credentials  \u001b]8;id=994389;file:///root/miniconda3/lib/python3.10/site-packages/botocore/credentials.py\u001b\\\u001b[2mcredentials.py\u001b[0m\u001b]8;;\u001b\\\u001b[2m:\u001b[0m\u001b]8;id=547508;file:///root/miniconda3/lib/python3.10/site-packages/botocore/credentials.py#1278\u001b\\\u001b[2m1278\u001b[0m\u001b]8;;\u001b\\\n",
      "\u001b[2;36m           \u001b[0m         file: ~\u001b[35m/.aws/\u001b[0m\u001b[95mcredentials\u001b[0m                 \u001b[2m                   \u001b[0m\n",
      "\u001b[2;36m          \u001b[0m\u001b[2;36m \u001b[0m\u001b[34mINFO    \u001b[0m HTTP Request: \u001b[1;33mHEAD\u001b[0m \u001b[4;94mhttp://127.0.0.1:7860/\u001b[0m    \u001b]8;id=823401;file:///root/miniconda3/lib/python3.10/site-packages/httpx/_client.py\u001b\\\u001b[2m_client.py\u001b[0m\u001b]8;;\u001b\\\u001b[2m:\u001b[0m\u001b]8;id=500101;file:///root/miniconda3/lib/python3.10/site-packages/httpx/_client.py#1026\u001b\\\u001b[2m1026\u001b[0m\u001b]8;;\u001b\\\n",
      "\u001b[2;36m           \u001b[0m         \u001b[32m\"HTTP/1.1 200 OK\"\u001b[0m                            \u001b[2m               \u001b[0m\n",
      "\u001b[2;36m          \u001b[0m\u001b[2;36m \u001b[0m\u001b[34mINFO    \u001b[0m HTTP Request: \u001b[1;33mGET\u001b[0m                            \u001b]8;id=139115;file:///root/miniconda3/lib/python3.10/site-packages/httpx/_client.py\u001b\\\u001b[2m_client.py\u001b[0m\u001b]8;;\u001b\\\u001b[2m:\u001b[0m\u001b]8;id=706923;file:///root/miniconda3/lib/python3.10/site-packages/httpx/_client.py#1026\u001b\\\u001b[2m1026\u001b[0m\u001b]8;;\u001b\\\n",
      "\u001b[2;36m           \u001b[0m         \u001b[4;94mhttps://api.gradio.app/v2/tunnel-request\u001b[0m     \u001b[2m               \u001b[0m\n",
      "\u001b[2;36m           \u001b[0m         \u001b[32m\"HTTP/1.1 200 OK\"\u001b[0m                            \u001b[2m               \u001b[0m\n",
      "Running on public URL: https://52a43b3207958a7468.gradio.live\n",
      "\n",
      "This share link expires in 72 hours. For free permanent hosting and GPU upgrades, run `gradio deploy` from Terminal to deploy to Spaces (https://huggingface.co/spaces)\n",
      "\u001b[2;36m[10:14:37]\u001b[0m\u001b[2;36m \u001b[0m\u001b[34mINFO    \u001b[0m HTTP Request: \u001b[1;33mHEAD\u001b[0m                           \u001b]8;id=987030;file:///root/miniconda3/lib/python3.10/site-packages/httpx/_client.py\u001b\\\u001b[2m_client.py\u001b[0m\u001b]8;;\u001b\\\u001b[2m:\u001b[0m\u001b]8;id=153987;file:///root/miniconda3/lib/python3.10/site-packages/httpx/_client.py#1026\u001b\\\u001b[2m1026\u001b[0m\u001b]8;;\u001b\\\n",
      "\u001b[2;36m           \u001b[0m         \u001b[4;94mhttps://52a43b3207958a7468.gradio.live\u001b[0m       \u001b[2m               \u001b[0m\n",
      "\u001b[2;36m           \u001b[0m         \u001b[32m\"HTTP/1.1 200 OK\"\u001b[0m                            \u001b[2m               \u001b[0m\n"
     ]
    },
    {
     "data": {
      "text/html": [
       "<div><iframe src=\"https://52a43b3207958a7468.gradio.live\" width=\"100%\" height=\"500\" allow=\"autoplay; camera; microphone; clipboard-read; clipboard-write;\" frameborder=\"0\" allowfullscreen></iframe></div>"
      ],
      "text/plain": [
       "<IPython.core.display.HTML object>"
      ]
     },
     "metadata": {},
     "output_type": "display_data"
    },
    {
     "data": {
      "text/plain": []
     },
     "execution_count": 10,
     "metadata": {},
     "output_type": "execute_result"
    }
   ],
   "source": [
    "iface.launch(share=True)"
   ]
  }
 ],
 "metadata": {
  "kernelspec": {
   "display_name": "base",
   "language": "python",
   "name": "python3"
  },
  "language_info": {
   "codemirror_mode": {
    "name": "ipython",
    "version": 3
   },
   "file_extension": ".py",
   "mimetype": "text/x-python",
   "name": "python",
   "nbconvert_exporter": "python",
   "pygments_lexer": "ipython3",
   "version": "3.10.13"
  }
 },
 "nbformat": 4,
 "nbformat_minor": 2
}
