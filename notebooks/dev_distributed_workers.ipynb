{
 "cells": [
  {
   "cell_type": "code",
   "execution_count": 2,
   "metadata": {},
   "outputs": [],
   "source": [
    "import json\n",
    "import msgpack\n",
    "from celery import Celery\n",
    "\n",
    "import unibox as ub\n",
    "\n",
    "from comfyui_router.utils import Workflow\n",
    "from comfyui_router.utils import get_router_config\n",
    "from comfyui_router.utils import extract_images_from_response\n",
    "\n",
    "# Initialize Celery client to connect to the broker\n",
    "broker_url = get_router_config(\"BROKER_URL\")\n",
    "app = Celery('tasks', broker=broker_url, backend='rpc://')"
   ]
  },
  {
   "cell_type": "code",
   "execution_count": 3,
   "metadata": {},
   "outputs": [
    {
     "data": {
      "text/plain": [
       "<Workflow with 16 nodes>\n",
       "Modifiable keys: ['api_seed', 'api_positive', 'api_negative', 'api_batchsize']\n",
       "Key-Value pairs: {api_seed: '1231231', api_positive: '(best quality:1.4), \\n\\n1girl, long hair,\\n\\nabsurdres, best ...}"
      ]
     },
     "execution_count": 3,
     "metadata": {},
     "output_type": "execute_result"
    }
   ],
   "source": [
    "wf = Workflow(\"/rmt/yada/dev/training-flow/data/aestehtic_dev_cfgpp_new_workflow_v1.2.json\")\n",
    "wf"
   ]
  },
  {
   "cell_type": "code",
   "execution_count": 4,
   "metadata": {},
   "outputs": [
    {
     "data": {
      "text/plain": [
       "<Workflow with 16 nodes>\n",
       "Modifiable keys: ['api_seed', 'api_positive', 'api_negative', 'api_batchsize']\n",
       "Key-Value pairs: {api_seed: '1231231', api_positive: '1girl, long hair, best quality', api_negative: 'lowres, (bad,...}"
      ]
     },
     "execution_count": 4,
     "metadata": {},
     "output_type": "execute_result"
    }
   ],
   "source": [
    "overrides = {\n",
    "    \"api_positive\": \"1girl, long hair, best quality\"\n",
    "}\n",
    "wf.update_modifiable_keys(overrides)\n",
    "wf"
   ]
  },
  {
   "cell_type": "code",
   "execution_count": 5,
   "metadata": {},
   "outputs": [
    {
     "data": {
      "text/plain": [
       "{'9': [<PIL.PngImagePlugin.PngImageFile image mode=RGB size=896x1152>,\n",
       "  <PIL.PngImagePlugin.PngImageFile image mode=RGB size=896x1152>]}"
      ]
     },
     "execution_count": 5,
     "metadata": {},
     "output_type": "execute_result"
    }
   ],
   "source": [
    "# Unique key for the request\n",
    "unique_key = \"debug_request_001\"\n",
    "\n",
    "# Send the request to the Celery worker\n",
    "result = app.send_task('comfyui_router.tasks.process_request', args=[unique_key, dict(wf)])\n",
    "\n",
    "# Wait for the result (blocking)\n",
    "packed_response = result.get(timeout=40)  # You can adjust the timeout as needed\n",
    "\n",
    "# Decode the MessagePack response\n",
    "_, raw_response = msgpack.unpackb(packed_response, raw=False)\n",
    "\n",
    "node_imgs = extract_images_from_response(raw_response)\n",
    "node_imgs"
   ]
  },
  {
   "cell_type": "code",
   "execution_count": null,
   "metadata": {},
   "outputs": [],
   "source": [
    "node_imgs['9'][0]"
   ]
  }
 ],
 "metadata": {
  "kernelspec": {
   "display_name": "base",
   "language": "python",
   "name": "python3"
  },
  "language_info": {
   "codemirror_mode": {
    "name": "ipython",
    "version": 3
   },
   "file_extension": ".py",
   "mimetype": "text/x-python",
   "name": "python",
   "nbconvert_exporter": "python",
   "pygments_lexer": "ipython3",
   "version": "3.10.13"
  }
 },
 "nbformat": 4,
 "nbformat_minor": 2
}
