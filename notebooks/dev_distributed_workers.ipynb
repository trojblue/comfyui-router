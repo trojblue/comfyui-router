{
 "cells": [
  {
   "cell_type": "code",
   "execution_count": 1,
   "metadata": {},
   "outputs": [
    {
     "data": {
      "text/plain": [
       "{'103': [<PIL.PngImagePlugin.PngImageFile image mode=RGB size=896x1152>,\n",
       "  <PIL.PngImagePlugin.PngImageFile image mode=RGB size=896x1152>,\n",
       "  <PIL.PngImagePlugin.PngImageFile image mode=RGB size=896x1152>,\n",
       "  <PIL.PngImagePlugin.PngImageFile image mode=RGB size=896x1152>]}"
      ]
     },
     "execution_count": 1,
     "metadata": {},
     "output_type": "execute_result"
    }
   ],
   "source": [
    "import json\n",
    "import msgpack\n",
    "from celery import Celery\n",
    "\n",
    "\n",
    "MQ_IP = \"52.10.216.28\"\n",
    "\n",
    "# Initialize Celery client to connect to the broker\n",
    "app = Celery('tasks', broker=f'pyamqp://runner:UjLyQtRMWTG68aAKecq4Hn@{MQ_IP}//', backend='rpc://')\n",
    "\n",
    "# Import the task module explicitly to ensure the task is registered\n",
    "import comfyui_router.tasks\n",
    "from comfyui_router.tasks import process_request\n",
    "from comfyui_router.utils import extract_images_from_response\n",
    "\n",
    "\n",
    "# JSON string to be sent\n",
    "json_string = '{\"6\": {\"inputs\": {\"text\": \"isekai joucho, 1girl, very long hair, best quality\", \"clip\": [\"101\", 1]}, \"class_type\": \"CLIPTextEncode\", \"_meta\": {\"title\": \"POSITIVE\"}}, \"7\": {\"inputs\": {\"text\": \"lowres, worst quality, displeasing, bad quality, bad anatomy, text, error, extra digit, cropped, average quality\", \"clip\": [\"101\", 1]}, \"class_type\": \"CLIPTextEncode\", \"_meta\": {\"title\": \"NEGATIVE\"}}, \"101\": {\"inputs\": {\"ckpt_name\": \"bxl-v5c-cont53/checkpoint-e1_s28000.safetensors\"}, \"class_type\": \"CheckpointLoaderSimple\", \"_meta\": {\"title\": \"Load Checkpoint\"}}, \"103\": {\"inputs\": {\"filename_prefix\": \"ComfyUI\", \"images\": [\"34:4\", 0]}, \"class_type\": \"SaveImage\", \"_meta\": {\"title\": \"Save Image\"}}, \"34:0\": {\"inputs\": {\"width\": 896, \"height\": 1152, \"batch_size\": 4}, \"class_type\": \"EmptyLatentImage\", \"_meta\": {\"title\": \"Empty Latent Image\"}}, \"34:1\": {\"inputs\": {\"multiplier\": 0.75, \"model\": [\"101\", 0]}, \"class_type\": \"RescaleCFG\", \"_meta\": {\"title\": \"RescaleCFG\"}}, \"34:2\": {\"inputs\": {\"sampling\": \"v_prediction\", \"zsnr\": true, \"model\": [\"34:1\", 0]}, \"class_type\": \"ModelSamplingDiscrete\", \"_meta\": {\"title\": \"ModelSamplingDiscrete\"}}, \"34:3\": {\"inputs\": {\"seed\": 432737405573798, \"steps\": 28, \"cfg\": 5.5, \"sampler_name\": \"euler\", \"scheduler\": \"normal\", \"denoise\": 1, \"model\": [\"34:2\", 0], \"positive\": [\"6\", 0], \"negative\": [\"7\", 0], \"latent_image\": [\"34:0\", 0]}, \"class_type\": \"KSampler\", \"_meta\": {\"title\": \"KSampler\"}}, \"34:4\": {\"inputs\": {\"samples\": [\"34:3\", 0], \"vae\": [\"101\", 2]}, \"class_type\": \"VAEDecode\", \"_meta\": {\"title\": \"VAE Decode\"}}}'\n",
    "json_data = json.loads(json_string)\n",
    "\n",
    "# Unique key for the request\n",
    "unique_key = \"debug_request_001\"\n",
    "\n",
    "# Send the request to the Celery worker\n",
    "result = app.send_task('comfyui_router.tasks.process_request', args=[unique_key, json_data])\n",
    "\n",
    "# Wait for the result (blocking)\n",
    "packed_response = result.get(timeout=40)  # You can adjust the timeout as needed\n",
    "\n",
    "# Decode the MessagePack response\n",
    "unique_key, raw_response = msgpack.unpackb(packed_response, raw=False)\n",
    "\n",
    "node_imgs = extract_images_from_response(raw_response)\n",
    "node_imgs"
   ]
  },
  {
   "cell_type": "code",
   "execution_count": 2,
   "metadata": {},
   "outputs": [
    {
     "data": {
      "text/plain": [
       "[<PIL.PngImagePlugin.PngImageFile image mode=RGB size=896x1152>,\n",
       " <PIL.PngImagePlugin.PngImageFile image mode=RGB size=896x1152>,\n",
       " <PIL.PngImagePlugin.PngImageFile image mode=RGB size=896x1152>,\n",
       " <PIL.PngImagePlugin.PngImageFile image mode=RGB size=896x1152>]"
      ]
     },
     "execution_count": 2,
     "metadata": {},
     "output_type": "execute_result"
    }
   ],
   "source": []
  }
 ],
 "metadata": {
  "kernelspec": {
   "display_name": "base",
   "language": "python",
   "name": "python3"
  },
  "language_info": {
   "codemirror_mode": {
    "name": "ipython",
    "version": 3
   },
   "file_extension": ".py",
   "mimetype": "text/x-python",
   "name": "python",
   "nbconvert_exporter": "python",
   "pygments_lexer": "ipython3",
   "version": "3.10.13"
  }
 },
 "nbformat": 4,
 "nbformat_minor": 2
}
